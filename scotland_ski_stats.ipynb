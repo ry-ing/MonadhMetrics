{
 "cells": [
  {
   "cell_type": "code",
   "execution_count": 1,
   "metadata": {},
   "outputs": [],
   "source": [
    "from data.fetch_data import DataFetcher\n",
    "from data.process_data import calculate_wind_speed, calculate_skiable_days, calculate_mean_anomalies\n",
    "\n",
    "import pandas as pd\n",
    "import numpy as np\n",
    "import matplotlib.pyplot as plt\n",
    "from scipy.stats import linregress"
   ]
  },
  {
   "cell_type": "code",
   "execution_count": 5,
   "metadata": {},
   "outputs": [],
   "source": [
    "# Define locations and other parameters\n",
    "locations = {\n",
    "    \"Glenshee\": (56.875916, -3.377881) \n",
    "    # \"Glencoe\": (56.61286, -4.84884),\n",
    "    # \"Cairngorm\": (57.1187, -3.6542) \n",
    "}\n",
    "start_date = '1950-01-01'\n",
    "end_date = '2024-12-31'"
   ]
  },
  {
   "cell_type": "code",
   "execution_count": 7,
   "metadata": {},
   "outputs": [
    {
     "ename": "TypeError",
     "evalue": "Invalid comparison between dtype=int64 and str",
     "output_type": "error",
     "traceback": [
      "\u001b[1;31m---------------------------------------------------------------------------\u001b[0m",
      "\u001b[1;31mTypeError\u001b[0m                                 Traceback (most recent call last)",
      "Cell \u001b[1;32mIn [7], line 17\u001b[0m\n\u001b[0;32m     14\u001b[0m temperature \u001b[38;5;241m=\u001b[39m fetcher\u001b[38;5;241m.\u001b[39mfetch_daily_variable(\u001b[38;5;124m'\u001b[39m\u001b[38;5;124mtemperature_2m\u001b[39m\u001b[38;5;124m'\u001b[39m)\n\u001b[0;32m     16\u001b[0m \u001b[38;5;66;03m# calculate the anomalies\u001b[39;00m\n\u001b[1;32m---> 17\u001b[0m snowfall_anomalies \u001b[38;5;241m=\u001b[39m \u001b[43mcalculate_mean_anomalies\u001b[49m\u001b[43m(\u001b[49m\u001b[43msnow_depth\u001b[49m\u001b[43m[\u001b[49m\u001b[38;5;124;43m'\u001b[39;49m\u001b[38;5;124;43msnow_depth\u001b[39;49m\u001b[38;5;124;43m'\u001b[39;49m\u001b[43m]\u001b[49m\u001b[43m,\u001b[49m\u001b[43m \u001b[49m\u001b[43mbaseline_start\u001b[49m\u001b[38;5;241;43m=\u001b[39;49m\u001b[38;5;124;43m'\u001b[39;49m\u001b[38;5;124;43m1950-01-01\u001b[39;49m\u001b[38;5;124;43m'\u001b[39;49m\u001b[43m,\u001b[49m\u001b[43m \u001b[49m\u001b[43mbaseline_end\u001b[49m\u001b[38;5;241;43m=\u001b[39;49m\u001b[38;5;124;43m'\u001b[39;49m\u001b[38;5;124;43m1979-12-31\u001b[39;49m\u001b[38;5;124;43m'\u001b[39;49m\u001b[43m,\u001b[49m\u001b[43m \u001b[49m\u001b[43mannual\u001b[49m\u001b[38;5;241;43m=\u001b[39;49m\u001b[38;5;28;43;01mFalse\u001b[39;49;00m\u001b[43m)\u001b[49m\n\u001b[0;32m     18\u001b[0m snow_depth_amomalies \u001b[38;5;241m=\u001b[39m calculate_mean_anomalies(snow_depth[\u001b[38;5;124m'\u001b[39m\u001b[38;5;124msnow_depth\u001b[39m\u001b[38;5;124m'\u001b[39m], baseline_start\u001b[38;5;241m=\u001b[39m\u001b[38;5;124m'\u001b[39m\u001b[38;5;124m1950-01-01\u001b[39m\u001b[38;5;124m'\u001b[39m, baseline_end\u001b[38;5;241m=\u001b[39m\u001b[38;5;124m'\u001b[39m\u001b[38;5;124m1979-12-31\u001b[39m\u001b[38;5;124m'\u001b[39m, annual\u001b[38;5;241m=\u001b[39m\u001b[38;5;28;01mFalse\u001b[39;00m)\n\u001b[0;32m     19\u001b[0m temperature_anomalies \u001b[38;5;241m=\u001b[39m calculate_mean_anomalies(temperature[\u001b[38;5;124m'\u001b[39m\u001b[38;5;124mtemperature_2m\u001b[39m\u001b[38;5;124m'\u001b[39m], baseline_start\u001b[38;5;241m=\u001b[39m\u001b[38;5;124m'\u001b[39m\u001b[38;5;124m1950-01-01\u001b[39m\u001b[38;5;124m'\u001b[39m, baseline_end\u001b[38;5;241m=\u001b[39m\u001b[38;5;124m'\u001b[39m\u001b[38;5;124m1979-12-31\u001b[39m\u001b[38;5;124m'\u001b[39m, annual\u001b[38;5;241m=\u001b[39m\u001b[38;5;28;01mFalse\u001b[39;00m)\n",
      "File \u001b[1;32mc:\\Users\\s1834371\\Documents\\MonadhMetrics\\data\\process_data.py:63\u001b[0m, in \u001b[0;36mcalculate_mean_anomalies\u001b[1;34m(df, baseline_start, baseline_end, months, annual)\u001b[0m\n\u001b[0;32m     60\u001b[0m df_mean \u001b[38;5;241m=\u001b[39m df_selected\u001b[38;5;241m.\u001b[39mgroupby(df_selected\u001b[38;5;241m.\u001b[39mindex\u001b[38;5;241m.\u001b[39myear)\u001b[38;5;241m.\u001b[39mmean()\n\u001b[0;32m     62\u001b[0m \u001b[38;5;66;03m# Calculate baseline mean\u001b[39;00m\n\u001b[1;32m---> 63\u001b[0m baseline \u001b[38;5;241m=\u001b[39m df_mean[(\u001b[43mdf_mean\u001b[49m\u001b[38;5;241;43m.\u001b[39;49m\u001b[43mindex\u001b[49m\u001b[43m \u001b[49m\u001b[38;5;241;43m>\u001b[39;49m\u001b[38;5;241;43m=\u001b[39;49m\u001b[43m \u001b[49m\u001b[43mbaseline_start\u001b[49m) \u001b[38;5;241m&\u001b[39m (df_mean\u001b[38;5;241m.\u001b[39mindex \u001b[38;5;241m<\u001b[39m\u001b[38;5;241m=\u001b[39m baseline_end)]\n\u001b[0;32m     64\u001b[0m baseline_avg \u001b[38;5;241m=\u001b[39m baseline\u001b[38;5;241m.\u001b[39mmean()\n\u001b[0;32m     66\u001b[0m \u001b[38;5;66;03m# Calculate anomalies as the difference from the baseline average\u001b[39;00m\n",
      "File \u001b[1;32mc:\\Users\\s1834371\\Miniconda3\\envs\\GFSTS_base\\lib\\site-packages\\pandas\\core\\ops\\common.py:72\u001b[0m, in \u001b[0;36m_unpack_zerodim_and_defer.<locals>.new_method\u001b[1;34m(self, other)\u001b[0m\n\u001b[0;32m     68\u001b[0m             \u001b[38;5;28;01mreturn\u001b[39;00m \u001b[38;5;28mNotImplemented\u001b[39m\n\u001b[0;32m     70\u001b[0m other \u001b[38;5;241m=\u001b[39m item_from_zerodim(other)\n\u001b[1;32m---> 72\u001b[0m \u001b[38;5;28;01mreturn\u001b[39;00m \u001b[43mmethod\u001b[49m\u001b[43m(\u001b[49m\u001b[38;5;28;43mself\u001b[39;49m\u001b[43m,\u001b[49m\u001b[43m \u001b[49m\u001b[43mother\u001b[49m\u001b[43m)\u001b[49m\n",
      "File \u001b[1;32mc:\\Users\\s1834371\\Miniconda3\\envs\\GFSTS_base\\lib\\site-packages\\pandas\\core\\arraylike.py:62\u001b[0m, in \u001b[0;36mOpsMixin.__ge__\u001b[1;34m(self, other)\u001b[0m\n\u001b[0;32m     60\u001b[0m \u001b[38;5;129m@unpack_zerodim_and_defer\u001b[39m(\u001b[38;5;124m\"\u001b[39m\u001b[38;5;124m__ge__\u001b[39m\u001b[38;5;124m\"\u001b[39m)\n\u001b[0;32m     61\u001b[0m \u001b[38;5;28;01mdef\u001b[39;00m \u001b[38;5;21m__ge__\u001b[39m(\u001b[38;5;28mself\u001b[39m, other):\n\u001b[1;32m---> 62\u001b[0m     \u001b[38;5;28;01mreturn\u001b[39;00m \u001b[38;5;28;43mself\u001b[39;49m\u001b[38;5;241;43m.\u001b[39;49m\u001b[43m_cmp_method\u001b[49m\u001b[43m(\u001b[49m\u001b[43mother\u001b[49m\u001b[43m,\u001b[49m\u001b[43m \u001b[49m\u001b[43moperator\u001b[49m\u001b[38;5;241;43m.\u001b[39;49m\u001b[43mge\u001b[49m\u001b[43m)\u001b[49m\n",
      "File \u001b[1;32mc:\\Users\\s1834371\\Miniconda3\\envs\\GFSTS_base\\lib\\site-packages\\pandas\\core\\indexes\\base.py:7025\u001b[0m, in \u001b[0;36mIndex._cmp_method\u001b[1;34m(self, other, op)\u001b[0m\n\u001b[0;32m   7023\u001b[0m \u001b[38;5;28;01melse\u001b[39;00m:\n\u001b[0;32m   7024\u001b[0m     \u001b[38;5;28;01mwith\u001b[39;00m np\u001b[38;5;241m.\u001b[39merrstate(\u001b[38;5;28mall\u001b[39m\u001b[38;5;241m=\u001b[39m\u001b[38;5;124m\"\u001b[39m\u001b[38;5;124mignore\u001b[39m\u001b[38;5;124m\"\u001b[39m):\n\u001b[1;32m-> 7025\u001b[0m         result \u001b[38;5;241m=\u001b[39m \u001b[43mops\u001b[49m\u001b[38;5;241;43m.\u001b[39;49m\u001b[43mcomparison_op\u001b[49m\u001b[43m(\u001b[49m\u001b[38;5;28;43mself\u001b[39;49m\u001b[38;5;241;43m.\u001b[39;49m\u001b[43m_values\u001b[49m\u001b[43m,\u001b[49m\u001b[43m \u001b[49m\u001b[43mother\u001b[49m\u001b[43m,\u001b[49m\u001b[43m \u001b[49m\u001b[43mop\u001b[49m\u001b[43m)\u001b[49m\n\u001b[0;32m   7027\u001b[0m \u001b[38;5;28;01mreturn\u001b[39;00m result\n",
      "File \u001b[1;32mc:\\Users\\s1834371\\Miniconda3\\envs\\GFSTS_base\\lib\\site-packages\\pandas\\core\\ops\\array_ops.py:284\u001b[0m, in \u001b[0;36mcomparison_op\u001b[1;34m(left, right, op)\u001b[0m\n\u001b[0;32m    280\u001b[0m         res_values \u001b[38;5;241m=\u001b[39m np\u001b[38;5;241m.\u001b[39mzeros(lvalues\u001b[38;5;241m.\u001b[39mshape, dtype\u001b[38;5;241m=\u001b[39m\u001b[38;5;28mbool\u001b[39m)\n\u001b[0;32m    282\u001b[0m \u001b[38;5;28;01melif\u001b[39;00m is_numeric_v_string_like(lvalues, rvalues):\n\u001b[0;32m    283\u001b[0m     \u001b[38;5;66;03m# GH#36377 going through the numexpr path would incorrectly raise\u001b[39;00m\n\u001b[1;32m--> 284\u001b[0m     \u001b[38;5;28;01mreturn\u001b[39;00m \u001b[43minvalid_comparison\u001b[49m\u001b[43m(\u001b[49m\u001b[43mlvalues\u001b[49m\u001b[43m,\u001b[49m\u001b[43m \u001b[49m\u001b[43mrvalues\u001b[49m\u001b[43m,\u001b[49m\u001b[43m \u001b[49m\u001b[43mop\u001b[49m\u001b[43m)\u001b[49m\n\u001b[0;32m    286\u001b[0m \u001b[38;5;28;01melif\u001b[39;00m is_object_dtype(lvalues\u001b[38;5;241m.\u001b[39mdtype) \u001b[38;5;129;01mor\u001b[39;00m \u001b[38;5;28misinstance\u001b[39m(rvalues, \u001b[38;5;28mstr\u001b[39m):\n\u001b[0;32m    287\u001b[0m     res_values \u001b[38;5;241m=\u001b[39m comp_method_OBJECT_ARRAY(op, lvalues, rvalues)\n",
      "File \u001b[1;32mc:\\Users\\s1834371\\Miniconda3\\envs\\GFSTS_base\\lib\\site-packages\\pandas\\core\\ops\\invalid.py:36\u001b[0m, in \u001b[0;36minvalid_comparison\u001b[1;34m(left, right, op)\u001b[0m\n\u001b[0;32m     34\u001b[0m \u001b[38;5;28;01melse\u001b[39;00m:\n\u001b[0;32m     35\u001b[0m     typ \u001b[38;5;241m=\u001b[39m \u001b[38;5;28mtype\u001b[39m(right)\u001b[38;5;241m.\u001b[39m\u001b[38;5;18m__name__\u001b[39m\n\u001b[1;32m---> 36\u001b[0m     \u001b[38;5;28;01mraise\u001b[39;00m \u001b[38;5;167;01mTypeError\u001b[39;00m(\u001b[38;5;124mf\u001b[39m\u001b[38;5;124m\"\u001b[39m\u001b[38;5;124mInvalid comparison between dtype=\u001b[39m\u001b[38;5;132;01m{\u001b[39;00mleft\u001b[38;5;241m.\u001b[39mdtype\u001b[38;5;132;01m}\u001b[39;00m\u001b[38;5;124m and \u001b[39m\u001b[38;5;132;01m{\u001b[39;00mtyp\u001b[38;5;132;01m}\u001b[39;00m\u001b[38;5;124m\"\u001b[39m)\n\u001b[0;32m     37\u001b[0m \u001b[38;5;28;01mreturn\u001b[39;00m res_values\n",
      "\u001b[1;31mTypeError\u001b[0m: Invalid comparison between dtype=int64 and str"
     ]
    }
   ],
   "source": [
    "# Fetch and process data\n",
    "skiable_data = {}\n",
    "winter_anomalies = {}\n",
    "for name, (lat, lon) in locations.items():\n",
    "    # define the data fetcher\n",
    "    fetcher = DataFetcher(lat, lon, start_date, end_date)\n",
    "\n",
    "    # fetch the data variables\n",
    "    snow_depth = fetcher.fetch_daily_variable('snow_depth')\n",
    "    snowfall = fetcher.fetch_daily_variable('snowfall_sum')\n",
    "    # u_wind = fetcher.fetch_daily_variable('u_component_of_wind_10m')\n",
    "    # v_wind = fetcher.fetch_daily_variable('v_component_of_wind_10m')\n",
    "    # wind_speed = calculate_wind_speed(u_wind['u_component_of_wind_10m'], v_wind['v_component_of_wind_10m'])\n",
    "    temperature = fetcher.fetch_daily_variable('temperature_2m')\n",
    "\n",
    "    # calculate the anomalies\n",
    "    snowfall_anomalies = calculate_mean_anomalies(snow_depth['snow_depth'], baseline_start='1950-01-01', baseline_end='1979-12-31', annual=False)\n",
    "    snow_depth_amomalies = calculate_mean_anomalies(snow_depth['snow_depth'], baseline_start='1950-01-01', baseline_end='1979-12-31', annual=False)\n",
    "    temperature_anomalies = calculate_mean_anomalies(temperature['temperature_2m'], baseline_start='1950-01-01', baseline_end='1979-12-31', annual=False)\n",
    "\n",
    "    # combine anomalies and add to dictionary\n",
    "    winter_anomalies[name] = {\n",
    "        'snowfall': snowfall_anomalies,\n",
    "        'snow_depth': snow_depth_amomalies,\n",
    "        'temperature': temperature_anomalies\n",
    "    }\n",
    "\n",
    "    # skiable_days = calculate_skiable_days(snow_depth['snow_depth'], wind_speed)\n",
    "    # skiable_data[name] = skiable_days\n"
   ]
  },
  {
   "cell_type": "markdown",
   "metadata": {},
   "source": [
    "## Plot winter anomalies"
   ]
  },
  {
   "cell_type": "code",
   "execution_count": null,
   "metadata": {},
   "outputs": [],
   "source": [
    "plt.rcParams['font.sans-serif'] = \"Helvetica\"\n",
    "plt.rcParams['font.family'] = \"sans-serif\"\n",
    "# Plotting each variable in a subplot using bar graphs\n",
    "fig, axs = plt.subplots(3, 1, figsize=(14, 10))\n",
    "bar_width = 1.0  # Set bar width to fill the entire year\n",
    "\n",
    "# Define a function to add a trend line\n",
    "def add_trend_line(ax, data, color):\n",
    "    x = np.array(data.index)\n",
    "    y = data.values.flatten()\n",
    "    slope, intercept, r_value, p_value, std_err = linregress(x, y)\n",
    "    ax.plot(x, intercept + slope * x, color=color, label=f'Trend (slope={slope:.2f})', linestyle='--')\n",
    "    ax.legend()\n",
    "\n",
    "# Function to determine bar colors based on anomaly values\n",
    "def get_bar_colors(data, positive_color, negative_color):\n",
    "    return [positive_color if value >= 0 else negative_color for value in data]\n",
    "\n",
    "# Snowfall Anomalies Plot\n",
    "colors_snowfall = get_bar_colors(snowfall_anom['snowfall_sum'], '#ebf5fb', '#abb2b9')    #           #ebf5fb  more snow,  #f39c12 \n",
    "axs[0].bar(snowfall_anom.index, snowfall_anom['snowfall_sum'], color=colors_snowfall, width=bar_width, align='edge', edgecolor='black', linewidth=1.5)\n",
    "axs[0].set_title('Winter Mean Snowfall')\n",
    "axs[0].set_ylabel('Anomaly (mm)')\n",
    "axs[0].grid(True, linestyle='--')\n",
    "add_trend_line(axs[0], snowfall_anom['snowfall_sum'], 'k')\n",
    "axs[0].set_xlim([1950, 2024])\n",
    "\n",
    "# Snow Depth Anomalies Plot\n",
    "colors_snow_depth = get_bar_colors(snow_depth_anom['snow_depth'], '#ebf5fb', '#abb2b9')\n",
    "axs[1].bar(snow_depth_anom.index, snow_depth_anom['snow_depth'], color=colors_snow_depth, width=bar_width, align='edge', edgecolor='black', linewidth=1.5)\n",
    "axs[1].set_title('Winter Mean Snow Depth')\n",
    "axs[1].set_ylabel('Anomaly (cm)')\n",
    "axs[1].grid(True, linestyle='--')\n",
    "add_trend_line(axs[1], snow_depth_anom['snow_depth'], 'k')\n",
    "axs[1].set_xlim([1950, 2024])\n",
    "\n",
    "# Air Temperature Anomalies Plot\n",
    "colors_air_temp = get_bar_colors(air_temp_anom['temperature_2m'], '#cb4335', '#1e88e5')\n",
    "axs[2].bar(air_temp_anom.index, air_temp_anom['temperature_2m'], color=colors_air_temp, width=bar_width, align='edge', edgecolor='black', linewidth=1.5)\n",
    "axs[2].set_title('Winter Mean Temperature')\n",
    "axs[2].set_xlabel('Year')\n",
    "axs[2].set_ylabel('Anomaly (°C)')\n",
    "axs[2].grid(True, linestyle='--')\n",
    "add_trend_line(axs[2], air_temp_anom['temperature_2m'], 'k')\n",
    "axs[2].set_xlim([1950, 2024])\n",
    "\n",
    "plt.tight_layout()\n",
    "plt.show()\n"
   ]
  },
  {
   "cell_type": "markdown",
   "metadata": {},
   "source": [
    "## Plot skiable days for different areas\n",
    "\n",
    "Default: snow_depth > 0.25 m, and wind speed < 30 mph"
   ]
  },
  {
   "cell_type": "code",
   "execution_count": null,
   "metadata": {},
   "outputs": [],
   "source": [
    "plt.rcParams['font.family'] = 'sans-serif'\n",
    "plt.rcParams['font.sans-serif'] = 'Helvetica'\n",
    "\n",
    "fig, ax = plt.subplots(figsize=(12, 5))\n",
    "colors = ['cornflowerblue', 'lightsteelblue', 'teal']\n",
    "bottom = np.zeros(len(skiable_data[list(skiable_data.keys())[0]]))\n",
    "for i, (name, data) in enumerate(skiable_data.items()):\n",
    "    ax.bar(data.index.year, data, bottom=bottom, color=colors[i], label=f'{name}', edgecolor='black', linewidth=1.2, zorder=2)\n",
    "    bottom += data.values\n",
    "\n",
    "ax.set_ylabel('Total Skiable Days')\n",
    "ax.legend()\n",
    "ax.grid(True, linestyle='--', zorder=-4)\n",
    "ax.set_title(r'Total Skiable Days per Year defined as $\\bf{Snowdepth > 0.25m}$ and $\\bf{Windspeed < 30mph}$')\n",
    "plt.tight_layout()\n",
    "plt.show()"
   ]
  }
 ],
 "metadata": {
  "kernelspec": {
   "display_name": "GFSTS_base",
   "language": "python",
   "name": "python3"
  },
  "language_info": {
   "codemirror_mode": {
    "name": "ipython",
    "version": 3
   },
   "file_extension": ".py",
   "mimetype": "text/x-python",
   "name": "python",
   "nbconvert_exporter": "python",
   "pygments_lexer": "ipython3",
   "version": "3.8.17"
  }
 },
 "nbformat": 4,
 "nbformat_minor": 2
}
